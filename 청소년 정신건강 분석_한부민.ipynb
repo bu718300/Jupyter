{
 "cells": [
  {
   "cell_type": "code",
   "execution_count": 5,
   "metadata": {},
   "outputs": [],
   "source": [
    "import pandas as pd"
   ]
  },
  {
   "cell_type": "code",
   "execution_count": 6,
   "metadata": {},
   "outputs": [
    {
     "data": {
      "text/plain": [
       "DatetimeIndex(['2019-03-01', '2019-03-02', '2019-03-03', '2019-03-04',\n",
       "               '2019-03-05', '2019-03-06'],\n",
       "              dtype='datetime64[ns]', freq='D')"
      ]
     },
     "execution_count": 6,
     "metadata": {},
     "output_type": "execute_result"
    }
   ],
   "source": [
    "dates = pd.date_range('20190301', periods=6)\n",
    "dates"
   ]
  },
  {
   "cell_type": "code",
   "execution_count": 7,
   "metadata": {},
   "outputs": [],
   "source": [
    "import numpy as np"
   ]
  },
  {
   "cell_type": "code",
   "execution_count": 10,
   "metadata": {},
   "outputs": [
    {
     "data": {
      "text/html": [
       "<div>\n",
       "<style scoped>\n",
       "    .dataframe tbody tr th:only-of-type {\n",
       "        vertical-align: middle;\n",
       "    }\n",
       "\n",
       "    .dataframe tbody tr th {\n",
       "        vertical-align: top;\n",
       "    }\n",
       "\n",
       "    .dataframe thead th {\n",
       "        text-align: right;\n",
       "    }\n",
       "</style>\n",
       "<table border=\"1\" class=\"dataframe\">\n",
       "  <thead>\n",
       "    <tr style=\"text-align: right;\">\n",
       "      <th></th>\n",
       "      <th>A</th>\n",
       "      <th>B</th>\n",
       "      <th>C</th>\n",
       "      <th>D</th>\n",
       "    </tr>\n",
       "  </thead>\n",
       "  <tbody>\n",
       "    <tr>\n",
       "      <th>2019-03-01</th>\n",
       "      <td>0.873927</td>\n",
       "      <td>-0.757187</td>\n",
       "      <td>0.655551</td>\n",
       "      <td>-1.042413</td>\n",
       "    </tr>\n",
       "    <tr>\n",
       "      <th>2019-03-02</th>\n",
       "      <td>-0.940759</td>\n",
       "      <td>-2.697335</td>\n",
       "      <td>0.545112</td>\n",
       "      <td>-1.367606</td>\n",
       "    </tr>\n",
       "    <tr>\n",
       "      <th>2019-03-03</th>\n",
       "      <td>-0.129842</td>\n",
       "      <td>-0.466498</td>\n",
       "      <td>-2.156427</td>\n",
       "      <td>0.532762</td>\n",
       "    </tr>\n",
       "    <tr>\n",
       "      <th>2019-03-04</th>\n",
       "      <td>-1.291240</td>\n",
       "      <td>-0.521329</td>\n",
       "      <td>-0.963126</td>\n",
       "      <td>1.084003</td>\n",
       "    </tr>\n",
       "    <tr>\n",
       "      <th>2019-03-05</th>\n",
       "      <td>0.509304</td>\n",
       "      <td>2.095738</td>\n",
       "      <td>-0.884959</td>\n",
       "      <td>0.546906</td>\n",
       "    </tr>\n",
       "    <tr>\n",
       "      <th>2019-03-06</th>\n",
       "      <td>0.721088</td>\n",
       "      <td>1.000045</td>\n",
       "      <td>1.664606</td>\n",
       "      <td>0.516917</td>\n",
       "    </tr>\n",
       "  </tbody>\n",
       "</table>\n",
       "</div>"
      ],
      "text/plain": [
       "                   A         B         C         D\n",
       "2019-03-01  0.873927 -0.757187  0.655551 -1.042413\n",
       "2019-03-02 -0.940759 -2.697335  0.545112 -1.367606\n",
       "2019-03-03 -0.129842 -0.466498 -2.156427  0.532762\n",
       "2019-03-04 -1.291240 -0.521329 -0.963126  1.084003\n",
       "2019-03-05  0.509304  2.095738 -0.884959  0.546906\n",
       "2019-03-06  0.721088  1.000045  1.664606  0.516917"
      ]
     },
     "execution_count": 10,
     "metadata": {},
     "output_type": "execute_result"
    }
   ],
   "source": [
    "df = pd.DataFrame(np.random.randn(6, 4), index=dates, columns=['A','B','C','D'])\n",
    "df"
   ]
  },
  {
   "cell_type": "code",
   "execution_count": 11,
   "metadata": {},
   "outputs": [
    {
     "data": {
      "text/plain": [
       "pandas.core.frame.DataFrame"
      ]
     },
     "execution_count": 11,
     "metadata": {},
     "output_type": "execute_result"
    }
   ],
   "source": [
    "type(df)"
   ]
  },
  {
   "cell_type": "code",
   "execution_count": 12,
   "metadata": {},
   "outputs": [
    {
     "data": {
      "text/plain": [
       "Index(['A', 'B', 'C', 'D'], dtype='object')"
      ]
     },
     "execution_count": 12,
     "metadata": {},
     "output_type": "execute_result"
    }
   ],
   "source": [
    "df.columns"
   ]
  },
  {
   "cell_type": "code",
   "execution_count": 13,
   "metadata": {},
   "outputs": [
    {
     "data": {
      "text/plain": [
       "DatetimeIndex(['2019-03-01', '2019-03-02', '2019-03-03', '2019-03-04',\n",
       "               '2019-03-05', '2019-03-06'],\n",
       "              dtype='datetime64[ns]', freq='D')"
      ]
     },
     "execution_count": 13,
     "metadata": {},
     "output_type": "execute_result"
    }
   ],
   "source": [
    "df.index"
   ]
  },
  {
   "cell_type": "code",
   "execution_count": 14,
   "metadata": {},
   "outputs": [
    {
     "data": {
      "text/plain": [
       "array([[ 0.87392725, -0.75718723,  0.65555074, -1.04241269],\n",
       "       [-0.94075911, -2.69733527,  0.54511215, -1.36760554],\n",
       "       [-0.12984239, -0.46649772, -2.15642696,  0.53276209],\n",
       "       [-1.2912396 , -0.52132867, -0.96312644,  1.08400309],\n",
       "       [ 0.50930415,  2.09573763, -0.88495948,  0.54690559],\n",
       "       [ 0.72108798,  1.00004514,  1.66460582,  0.51691678]])"
      ]
     },
     "execution_count": 14,
     "metadata": {},
     "output_type": "execute_result"
    }
   ],
   "source": [
    "df.values"
   ]
  },
  {
   "cell_type": "code",
   "execution_count": 15,
   "metadata": {},
   "outputs": [
    {
     "data": {
      "text/html": [
       "<div>\n",
       "<style scoped>\n",
       "    .dataframe tbody tr th:only-of-type {\n",
       "        vertical-align: middle;\n",
       "    }\n",
       "\n",
       "    .dataframe tbody tr th {\n",
       "        vertical-align: top;\n",
       "    }\n",
       "\n",
       "    .dataframe thead th {\n",
       "        text-align: right;\n",
       "    }\n",
       "</style>\n",
       "<table border=\"1\" class=\"dataframe\">\n",
       "  <thead>\n",
       "    <tr style=\"text-align: right;\">\n",
       "      <th></th>\n",
       "      <th>A</th>\n",
       "      <th>B</th>\n",
       "      <th>C</th>\n",
       "      <th>D</th>\n",
       "    </tr>\n",
       "  </thead>\n",
       "  <tbody>\n",
       "    <tr>\n",
       "      <th>count</th>\n",
       "      <td>6.000000</td>\n",
       "      <td>6.000000</td>\n",
       "      <td>6.000000</td>\n",
       "      <td>6.000000</td>\n",
       "    </tr>\n",
       "    <tr>\n",
       "      <th>mean</th>\n",
       "      <td>-0.042920</td>\n",
       "      <td>-0.224428</td>\n",
       "      <td>-0.189874</td>\n",
       "      <td>0.045095</td>\n",
       "    </tr>\n",
       "    <tr>\n",
       "      <th>std</th>\n",
       "      <td>0.905676</td>\n",
       "      <td>1.638802</td>\n",
       "      <td>1.388700</td>\n",
       "      <td>0.996993</td>\n",
       "    </tr>\n",
       "    <tr>\n",
       "      <th>min</th>\n",
       "      <td>-1.291240</td>\n",
       "      <td>-2.697335</td>\n",
       "      <td>-2.156427</td>\n",
       "      <td>-1.367606</td>\n",
       "    </tr>\n",
       "    <tr>\n",
       "      <th>25%</th>\n",
       "      <td>-0.738030</td>\n",
       "      <td>-0.698223</td>\n",
       "      <td>-0.943585</td>\n",
       "      <td>-0.652580</td>\n",
       "    </tr>\n",
       "    <tr>\n",
       "      <th>50%</th>\n",
       "      <td>0.189731</td>\n",
       "      <td>-0.493913</td>\n",
       "      <td>-0.169924</td>\n",
       "      <td>0.524839</td>\n",
       "    </tr>\n",
       "    <tr>\n",
       "      <th>75%</th>\n",
       "      <td>0.668142</td>\n",
       "      <td>0.633409</td>\n",
       "      <td>0.627941</td>\n",
       "      <td>0.543370</td>\n",
       "    </tr>\n",
       "    <tr>\n",
       "      <th>max</th>\n",
       "      <td>0.873927</td>\n",
       "      <td>2.095738</td>\n",
       "      <td>1.664606</td>\n",
       "      <td>1.084003</td>\n",
       "    </tr>\n",
       "  </tbody>\n",
       "</table>\n",
       "</div>"
      ],
      "text/plain": [
       "              A         B         C         D\n",
       "count  6.000000  6.000000  6.000000  6.000000\n",
       "mean  -0.042920 -0.224428 -0.189874  0.045095\n",
       "std    0.905676  1.638802  1.388700  0.996993\n",
       "min   -1.291240 -2.697335 -2.156427 -1.367606\n",
       "25%   -0.738030 -0.698223 -0.943585 -0.652580\n",
       "50%    0.189731 -0.493913 -0.169924  0.524839\n",
       "75%    0.668142  0.633409  0.627941  0.543370\n",
       "max    0.873927  2.095738  1.664606  1.084003"
      ]
     },
     "execution_count": 15,
     "metadata": {},
     "output_type": "execute_result"
    }
   ],
   "source": [
    "df.describe()"
   ]
  },
  {
   "cell_type": "code",
   "execution_count": 16,
   "metadata": {},
   "outputs": [
    {
     "data": {
      "text/html": [
       "<div>\n",
       "<style scoped>\n",
       "    .dataframe tbody tr th:only-of-type {\n",
       "        vertical-align: middle;\n",
       "    }\n",
       "\n",
       "    .dataframe tbody tr th {\n",
       "        vertical-align: top;\n",
       "    }\n",
       "\n",
       "    .dataframe thead th {\n",
       "        text-align: right;\n",
       "    }\n",
       "</style>\n",
       "<table border=\"1\" class=\"dataframe\">\n",
       "  <thead>\n",
       "    <tr style=\"text-align: right;\">\n",
       "      <th></th>\n",
       "      <th>A</th>\n",
       "      <th>B</th>\n",
       "      <th>C</th>\n",
       "      <th>D</th>\n",
       "    </tr>\n",
       "  </thead>\n",
       "  <tbody>\n",
       "    <tr>\n",
       "      <th>2019-03-04</th>\n",
       "      <td>-1.291240</td>\n",
       "      <td>-0.521329</td>\n",
       "      <td>-0.963126</td>\n",
       "      <td>1.084003</td>\n",
       "    </tr>\n",
       "    <tr>\n",
       "      <th>2019-03-02</th>\n",
       "      <td>-0.940759</td>\n",
       "      <td>-2.697335</td>\n",
       "      <td>0.545112</td>\n",
       "      <td>-1.367606</td>\n",
       "    </tr>\n",
       "    <tr>\n",
       "      <th>2019-03-03</th>\n",
       "      <td>-0.129842</td>\n",
       "      <td>-0.466498</td>\n",
       "      <td>-2.156427</td>\n",
       "      <td>0.532762</td>\n",
       "    </tr>\n",
       "    <tr>\n",
       "      <th>2019-03-05</th>\n",
       "      <td>0.509304</td>\n",
       "      <td>2.095738</td>\n",
       "      <td>-0.884959</td>\n",
       "      <td>0.546906</td>\n",
       "    </tr>\n",
       "    <tr>\n",
       "      <th>2019-03-06</th>\n",
       "      <td>0.721088</td>\n",
       "      <td>1.000045</td>\n",
       "      <td>1.664606</td>\n",
       "      <td>0.516917</td>\n",
       "    </tr>\n",
       "    <tr>\n",
       "      <th>2019-03-01</th>\n",
       "      <td>0.873927</td>\n",
       "      <td>-0.757187</td>\n",
       "      <td>0.655551</td>\n",
       "      <td>-1.042413</td>\n",
       "    </tr>\n",
       "  </tbody>\n",
       "</table>\n",
       "</div>"
      ],
      "text/plain": [
       "                   A         B         C         D\n",
       "2019-03-04 -1.291240 -0.521329 -0.963126  1.084003\n",
       "2019-03-02 -0.940759 -2.697335  0.545112 -1.367606\n",
       "2019-03-03 -0.129842 -0.466498 -2.156427  0.532762\n",
       "2019-03-05  0.509304  2.095738 -0.884959  0.546906\n",
       "2019-03-06  0.721088  1.000045  1.664606  0.516917\n",
       "2019-03-01  0.873927 -0.757187  0.655551 -1.042413"
      ]
     },
     "execution_count": 16,
     "metadata": {},
     "output_type": "execute_result"
    }
   ],
   "source": [
    "df.sort_values(by='A') #오름차순"
   ]
  },
  {
   "cell_type": "code",
   "execution_count": 17,
   "metadata": {},
   "outputs": [
    {
     "data": {
      "text/html": [
       "<div>\n",
       "<style scoped>\n",
       "    .dataframe tbody tr th:only-of-type {\n",
       "        vertical-align: middle;\n",
       "    }\n",
       "\n",
       "    .dataframe tbody tr th {\n",
       "        vertical-align: top;\n",
       "    }\n",
       "\n",
       "    .dataframe thead th {\n",
       "        text-align: right;\n",
       "    }\n",
       "</style>\n",
       "<table border=\"1\" class=\"dataframe\">\n",
       "  <thead>\n",
       "    <tr style=\"text-align: right;\">\n",
       "      <th></th>\n",
       "      <th>A</th>\n",
       "      <th>B</th>\n",
       "      <th>C</th>\n",
       "      <th>D</th>\n",
       "    </tr>\n",
       "  </thead>\n",
       "  <tbody>\n",
       "    <tr>\n",
       "      <th>2019-03-01</th>\n",
       "      <td>0.873927</td>\n",
       "      <td>-0.757187</td>\n",
       "      <td>0.655551</td>\n",
       "      <td>-1.042413</td>\n",
       "    </tr>\n",
       "    <tr>\n",
       "      <th>2019-03-06</th>\n",
       "      <td>0.721088</td>\n",
       "      <td>1.000045</td>\n",
       "      <td>1.664606</td>\n",
       "      <td>0.516917</td>\n",
       "    </tr>\n",
       "    <tr>\n",
       "      <th>2019-03-05</th>\n",
       "      <td>0.509304</td>\n",
       "      <td>2.095738</td>\n",
       "      <td>-0.884959</td>\n",
       "      <td>0.546906</td>\n",
       "    </tr>\n",
       "    <tr>\n",
       "      <th>2019-03-03</th>\n",
       "      <td>-0.129842</td>\n",
       "      <td>-0.466498</td>\n",
       "      <td>-2.156427</td>\n",
       "      <td>0.532762</td>\n",
       "    </tr>\n",
       "    <tr>\n",
       "      <th>2019-03-02</th>\n",
       "      <td>-0.940759</td>\n",
       "      <td>-2.697335</td>\n",
       "      <td>0.545112</td>\n",
       "      <td>-1.367606</td>\n",
       "    </tr>\n",
       "    <tr>\n",
       "      <th>2019-03-04</th>\n",
       "      <td>-1.291240</td>\n",
       "      <td>-0.521329</td>\n",
       "      <td>-0.963126</td>\n",
       "      <td>1.084003</td>\n",
       "    </tr>\n",
       "  </tbody>\n",
       "</table>\n",
       "</div>"
      ],
      "text/plain": [
       "                   A         B         C         D\n",
       "2019-03-01  0.873927 -0.757187  0.655551 -1.042413\n",
       "2019-03-06  0.721088  1.000045  1.664606  0.516917\n",
       "2019-03-05  0.509304  2.095738 -0.884959  0.546906\n",
       "2019-03-03 -0.129842 -0.466498 -2.156427  0.532762\n",
       "2019-03-02 -0.940759 -2.697335  0.545112 -1.367606\n",
       "2019-03-04 -1.291240 -0.521329 -0.963126  1.084003"
      ]
     },
     "execution_count": 17,
     "metadata": {},
     "output_type": "execute_result"
    }
   ],
   "source": [
    "df.sort_values(by='A', ascending=False) #내림차순 정렬"
   ]
  },
  {
   "cell_type": "code",
   "execution_count": 18,
   "metadata": {},
   "outputs": [
    {
     "data": {
      "text/plain": [
       "2019-03-01    0.873927\n",
       "2019-03-02   -0.940759\n",
       "2019-03-03   -0.129842\n",
       "2019-03-04   -1.291240\n",
       "2019-03-05    0.509304\n",
       "2019-03-06    0.721088\n",
       "Freq: D, Name: A, dtype: float64"
      ]
     },
     "execution_count": 18,
     "metadata": {},
     "output_type": "execute_result"
    }
   ],
   "source": [
    "df['A']"
   ]
  },
  {
   "cell_type": "code",
   "execution_count": 19,
   "metadata": {},
   "outputs": [
    {
     "data": {
      "text/plain": [
       "2019-03-01    0.873927\n",
       "2019-03-02   -0.940759\n",
       "2019-03-03   -0.129842\n",
       "2019-03-04   -1.291240\n",
       "2019-03-05    0.509304\n",
       "2019-03-06    0.721088\n",
       "Freq: D, Name: A, dtype: float64"
      ]
     },
     "execution_count": 19,
     "metadata": {},
     "output_type": "execute_result"
    }
   ],
   "source": [
    "df.A #하나만 추출할 때"
   ]
  },
  {
   "cell_type": "code",
   "execution_count": 20,
   "metadata": {},
   "outputs": [
    {
     "data": {
      "text/plain": [
       "pandas.core.series.Series"
      ]
     },
     "execution_count": 20,
     "metadata": {},
     "output_type": "execute_result"
    }
   ],
   "source": [
    "type(df.A) #Series"
   ]
  },
  {
   "cell_type": "code",
   "execution_count": 21,
   "metadata": {},
   "outputs": [
    {
     "data": {
      "text/html": [
       "<div>\n",
       "<style scoped>\n",
       "    .dataframe tbody tr th:only-of-type {\n",
       "        vertical-align: middle;\n",
       "    }\n",
       "\n",
       "    .dataframe tbody tr th {\n",
       "        vertical-align: top;\n",
       "    }\n",
       "\n",
       "    .dataframe thead th {\n",
       "        text-align: right;\n",
       "    }\n",
       "</style>\n",
       "<table border=\"1\" class=\"dataframe\">\n",
       "  <thead>\n",
       "    <tr style=\"text-align: right;\">\n",
       "      <th></th>\n",
       "      <th>A</th>\n",
       "      <th>B</th>\n",
       "      <th>C</th>\n",
       "      <th>D</th>\n",
       "    </tr>\n",
       "  </thead>\n",
       "  <tbody>\n",
       "    <tr>\n",
       "      <th>2019-03-01</th>\n",
       "      <td>0.873927</td>\n",
       "      <td>-0.757187</td>\n",
       "      <td>0.655551</td>\n",
       "      <td>-1.042413</td>\n",
       "    </tr>\n",
       "    <tr>\n",
       "      <th>2019-03-02</th>\n",
       "      <td>-0.940759</td>\n",
       "      <td>-2.697335</td>\n",
       "      <td>0.545112</td>\n",
       "      <td>-1.367606</td>\n",
       "    </tr>\n",
       "    <tr>\n",
       "      <th>2019-03-03</th>\n",
       "      <td>-0.129842</td>\n",
       "      <td>-0.466498</td>\n",
       "      <td>-2.156427</td>\n",
       "      <td>0.532762</td>\n",
       "    </tr>\n",
       "  </tbody>\n",
       "</table>\n",
       "</div>"
      ],
      "text/plain": [
       "                   A         B         C         D\n",
       "2019-03-01  0.873927 -0.757187  0.655551 -1.042413\n",
       "2019-03-02 -0.940759 -2.697335  0.545112 -1.367606\n",
       "2019-03-03 -0.129842 -0.466498 -2.156427  0.532762"
      ]
     },
     "execution_count": 21,
     "metadata": {},
     "output_type": "execute_result"
    }
   ],
   "source": [
    "df[0:3]"
   ]
  },
  {
   "cell_type": "code",
   "execution_count": 22,
   "metadata": {},
   "outputs": [
    {
     "data": {
      "text/html": [
       "<div>\n",
       "<style scoped>\n",
       "    .dataframe tbody tr th:only-of-type {\n",
       "        vertical-align: middle;\n",
       "    }\n",
       "\n",
       "    .dataframe tbody tr th {\n",
       "        vertical-align: top;\n",
       "    }\n",
       "\n",
       "    .dataframe thead th {\n",
       "        text-align: right;\n",
       "    }\n",
       "</style>\n",
       "<table border=\"1\" class=\"dataframe\">\n",
       "  <thead>\n",
       "    <tr style=\"text-align: right;\">\n",
       "      <th></th>\n",
       "      <th>A</th>\n",
       "      <th>B</th>\n",
       "      <th>C</th>\n",
       "      <th>D</th>\n",
       "    </tr>\n",
       "  </thead>\n",
       "  <tbody>\n",
       "    <tr>\n",
       "      <th>2019-03-01</th>\n",
       "      <td>0.873927</td>\n",
       "      <td>-0.757187</td>\n",
       "      <td>0.655551</td>\n",
       "      <td>-1.042413</td>\n",
       "    </tr>\n",
       "    <tr>\n",
       "      <th>2019-03-02</th>\n",
       "      <td>-0.940759</td>\n",
       "      <td>-2.697335</td>\n",
       "      <td>0.545112</td>\n",
       "      <td>-1.367606</td>\n",
       "    </tr>\n",
       "    <tr>\n",
       "      <th>2019-03-03</th>\n",
       "      <td>-0.129842</td>\n",
       "      <td>-0.466498</td>\n",
       "      <td>-2.156427</td>\n",
       "      <td>0.532762</td>\n",
       "    </tr>\n",
       "  </tbody>\n",
       "</table>\n",
       "</div>"
      ],
      "text/plain": [
       "                   A         B         C         D\n",
       "2019-03-01  0.873927 -0.757187  0.655551 -1.042413\n",
       "2019-03-02 -0.940759 -2.697335  0.545112 -1.367606\n",
       "2019-03-03 -0.129842 -0.466498 -2.156427  0.532762"
      ]
     },
     "execution_count": 22,
     "metadata": {},
     "output_type": "execute_result"
    }
   ],
   "source": [
    "df.iloc[0:3]"
   ]
  },
  {
   "cell_type": "code",
   "execution_count": 23,
   "metadata": {},
   "outputs": [
    {
     "data": {
      "text/plain": [
       "A    0.873927\n",
       "B   -0.757187\n",
       "C    0.655551\n",
       "D   -1.042413\n",
       "Name: 2019-03-01 00:00:00, dtype: float64"
      ]
     },
     "execution_count": 23,
     "metadata": {},
     "output_type": "execute_result"
    }
   ],
   "source": [
    "df.loc['2019-03-01'] #행추출, 행에 해당하는 모든 열이 추출"
   ]
  },
  {
   "cell_type": "code",
   "execution_count": 24,
   "metadata": {},
   "outputs": [
    {
     "data": {
      "text/plain": [
       "0.8739272523995388"
      ]
     },
     "execution_count": 24,
     "metadata": {},
     "output_type": "execute_result"
    }
   ],
   "source": [
    "df.loc['2019-03-01', 'A']"
   ]
  },
  {
   "cell_type": "code",
   "execution_count": 25,
   "metadata": {},
   "outputs": [
    {
     "data": {
      "text/plain": [
       "A    0.873927\n",
       "C    0.655551\n",
       "Name: 2019-03-01 00:00:00, dtype: float64"
      ]
     },
     "execution_count": 25,
     "metadata": {},
     "output_type": "execute_result"
    }
   ],
   "source": [
    "df.loc['2019-03-01', ['A','C']] #loc, iloc(행)"
   ]
  },
  {
   "cell_type": "code",
   "execution_count": 26,
   "metadata": {},
   "outputs": [],
   "source": [
    "# df.loc[행]\n",
    "# df.loc[행, 열]\n",
    "# df.loc[ , 열]"
   ]
  },
  {
   "cell_type": "code",
   "execution_count": 27,
   "metadata": {},
   "outputs": [
    {
     "data": {
      "text/plain": [
       "2019-03-01    0.873927\n",
       "2019-03-02   -0.940759\n",
       "2019-03-03   -0.129842\n",
       "2019-03-04   -1.291240\n",
       "2019-03-05    0.509304\n",
       "2019-03-06    0.721088\n",
       "Freq: D, Name: A, dtype: float64"
      ]
     },
     "execution_count": 27,
     "metadata": {},
     "output_type": "execute_result"
    }
   ],
   "source": [
    "df.loc[ : , 'A']"
   ]
  },
  {
   "cell_type": "code",
   "execution_count": 28,
   "metadata": {},
   "outputs": [
    {
     "data": {
      "text/html": [
       "<div>\n",
       "<style scoped>\n",
       "    .dataframe tbody tr th:only-of-type {\n",
       "        vertical-align: middle;\n",
       "    }\n",
       "\n",
       "    .dataframe tbody tr th {\n",
       "        vertical-align: top;\n",
       "    }\n",
       "\n",
       "    .dataframe thead th {\n",
       "        text-align: right;\n",
       "    }\n",
       "</style>\n",
       "<table border=\"1\" class=\"dataframe\">\n",
       "  <thead>\n",
       "    <tr style=\"text-align: right;\">\n",
       "      <th></th>\n",
       "      <th>A</th>\n",
       "      <th>C</th>\n",
       "    </tr>\n",
       "  </thead>\n",
       "  <tbody>\n",
       "    <tr>\n",
       "      <th>2019-03-01</th>\n",
       "      <td>0.873927</td>\n",
       "      <td>0.655551</td>\n",
       "    </tr>\n",
       "    <tr>\n",
       "      <th>2019-03-02</th>\n",
       "      <td>-0.940759</td>\n",
       "      <td>0.545112</td>\n",
       "    </tr>\n",
       "    <tr>\n",
       "      <th>2019-03-03</th>\n",
       "      <td>-0.129842</td>\n",
       "      <td>-2.156427</td>\n",
       "    </tr>\n",
       "    <tr>\n",
       "      <th>2019-03-04</th>\n",
       "      <td>-1.291240</td>\n",
       "      <td>-0.963126</td>\n",
       "    </tr>\n",
       "    <tr>\n",
       "      <th>2019-03-05</th>\n",
       "      <td>0.509304</td>\n",
       "      <td>-0.884959</td>\n",
       "    </tr>\n",
       "    <tr>\n",
       "      <th>2019-03-06</th>\n",
       "      <td>0.721088</td>\n",
       "      <td>1.664606</td>\n",
       "    </tr>\n",
       "  </tbody>\n",
       "</table>\n",
       "</div>"
      ],
      "text/plain": [
       "                   A         C\n",
       "2019-03-01  0.873927  0.655551\n",
       "2019-03-02 -0.940759  0.545112\n",
       "2019-03-03 -0.129842 -2.156427\n",
       "2019-03-04 -1.291240 -0.963126\n",
       "2019-03-05  0.509304 -0.884959\n",
       "2019-03-06  0.721088  1.664606"
      ]
     },
     "execution_count": 28,
     "metadata": {},
     "output_type": "execute_result"
    }
   ],
   "source": [
    "df.loc[ : , ['A','C']]"
   ]
  },
  {
   "cell_type": "code",
   "execution_count": 29,
   "metadata": {},
   "outputs": [],
   "source": [
    "# df.iloc[행]\n",
    "# df.iloc[행, 열]\n",
    "# df.iloc[ , 열]"
   ]
  },
  {
   "cell_type": "code",
   "execution_count": 32,
   "metadata": {},
   "outputs": [
    {
     "data": {
      "text/html": [
       "<div>\n",
       "<style scoped>\n",
       "    .dataframe tbody tr th:only-of-type {\n",
       "        vertical-align: middle;\n",
       "    }\n",
       "\n",
       "    .dataframe tbody tr th {\n",
       "        vertical-align: top;\n",
       "    }\n",
       "\n",
       "    .dataframe thead th {\n",
       "        text-align: right;\n",
       "    }\n",
       "</style>\n",
       "<table border=\"1\" class=\"dataframe\">\n",
       "  <thead>\n",
       "    <tr style=\"text-align: right;\">\n",
       "      <th></th>\n",
       "      <th>A</th>\n",
       "      <th>B</th>\n",
       "      <th>C</th>\n",
       "    </tr>\n",
       "  </thead>\n",
       "  <tbody>\n",
       "    <tr>\n",
       "      <th>2019-03-01</th>\n",
       "      <td>0.873927</td>\n",
       "      <td>-0.757187</td>\n",
       "      <td>0.655551</td>\n",
       "    </tr>\n",
       "    <tr>\n",
       "      <th>2019-03-02</th>\n",
       "      <td>-0.940759</td>\n",
       "      <td>-2.697335</td>\n",
       "      <td>0.545112</td>\n",
       "    </tr>\n",
       "    <tr>\n",
       "      <th>2019-03-03</th>\n",
       "      <td>-0.129842</td>\n",
       "      <td>-0.466498</td>\n",
       "      <td>-2.156427</td>\n",
       "    </tr>\n",
       "    <tr>\n",
       "      <th>2019-03-04</th>\n",
       "      <td>-1.291240</td>\n",
       "      <td>-0.521329</td>\n",
       "      <td>-0.963126</td>\n",
       "    </tr>\n",
       "    <tr>\n",
       "      <th>2019-03-05</th>\n",
       "      <td>0.509304</td>\n",
       "      <td>2.095738</td>\n",
       "      <td>-0.884959</td>\n",
       "    </tr>\n",
       "    <tr>\n",
       "      <th>2019-03-06</th>\n",
       "      <td>0.721088</td>\n",
       "      <td>1.000045</td>\n",
       "      <td>1.664606</td>\n",
       "    </tr>\n",
       "  </tbody>\n",
       "</table>\n",
       "</div>"
      ],
      "text/plain": [
       "                   A         B         C\n",
       "2019-03-01  0.873927 -0.757187  0.655551\n",
       "2019-03-02 -0.940759 -2.697335  0.545112\n",
       "2019-03-03 -0.129842 -0.466498 -2.156427\n",
       "2019-03-04 -1.291240 -0.521329 -0.963126\n",
       "2019-03-05  0.509304  2.095738 -0.884959\n",
       "2019-03-06  0.721088  1.000045  1.664606"
      ]
     },
     "execution_count": 32,
     "metadata": {},
     "output_type": "execute_result"
    }
   ],
   "source": [
    "# 이런식으로 쓸 수 없다. df.loc[:, :], df.loc[:, ['A','C']]\n",
    "df.loc[ : , 'A':'C']"
   ]
  },
  {
   "cell_type": "code",
   "execution_count": 33,
   "metadata": {},
   "outputs": [],
   "source": [
    "#변수 df는 \"d\"ata \"f\"rame의 약자"
   ]
  },
  {
   "cell_type": "code",
   "execution_count": 36,
   "metadata": {},
   "outputs": [
    {
     "data": {
      "text/plain": [
       "A    0.873927\n",
       "B   -0.757187\n",
       "C    0.655551\n",
       "D   -1.042413\n",
       "Name: 2019-03-01 00:00:00, dtype: float64"
      ]
     },
     "execution_count": 36,
     "metadata": {},
     "output_type": "execute_result"
    }
   ],
   "source": [
    "df.iloc[0]"
   ]
  },
  {
   "cell_type": "code",
   "execution_count": 37,
   "metadata": {},
   "outputs": [
    {
     "data": {
      "text/plain": [
       "(6, 4)"
      ]
     },
     "execution_count": 37,
     "metadata": {},
     "output_type": "execute_result"
    }
   ],
   "source": [
    "df.shape"
   ]
  },
  {
   "cell_type": "code",
   "execution_count": 38,
   "metadata": {},
   "outputs": [
    {
     "data": {
      "text/plain": [
       "A    0.721088\n",
       "B    1.000045\n",
       "C    1.664606\n",
       "D    0.516917\n",
       "Name: 2019-03-06 00:00:00, dtype: float64"
      ]
     },
     "execution_count": 38,
     "metadata": {},
     "output_type": "execute_result"
    }
   ],
   "source": [
    "df.iloc[5] #행 슬라이싱"
   ]
  },
  {
   "cell_type": "code",
   "execution_count": 39,
   "metadata": {},
   "outputs": [
    {
     "data": {
      "text/html": [
       "<div>\n",
       "<style scoped>\n",
       "    .dataframe tbody tr th:only-of-type {\n",
       "        vertical-align: middle;\n",
       "    }\n",
       "\n",
       "    .dataframe tbody tr th {\n",
       "        vertical-align: top;\n",
       "    }\n",
       "\n",
       "    .dataframe thead th {\n",
       "        text-align: right;\n",
       "    }\n",
       "</style>\n",
       "<table border=\"1\" class=\"dataframe\">\n",
       "  <thead>\n",
       "    <tr style=\"text-align: right;\">\n",
       "      <th></th>\n",
       "      <th>A</th>\n",
       "      <th>B</th>\n",
       "      <th>C</th>\n",
       "      <th>D</th>\n",
       "    </tr>\n",
       "  </thead>\n",
       "  <tbody>\n",
       "    <tr>\n",
       "      <th>2019-03-04</th>\n",
       "      <td>-1.291240</td>\n",
       "      <td>-0.521329</td>\n",
       "      <td>-0.963126</td>\n",
       "      <td>1.084003</td>\n",
       "    </tr>\n",
       "    <tr>\n",
       "      <th>2019-03-05</th>\n",
       "      <td>0.509304</td>\n",
       "      <td>2.095738</td>\n",
       "      <td>-0.884959</td>\n",
       "      <td>0.546906</td>\n",
       "    </tr>\n",
       "  </tbody>\n",
       "</table>\n",
       "</div>"
      ],
      "text/plain": [
       "                   A         B         C         D\n",
       "2019-03-04 -1.291240 -0.521329 -0.963126  1.084003\n",
       "2019-03-05  0.509304  2.095738 -0.884959  0.546906"
      ]
     },
     "execution_count": 39,
     "metadata": {},
     "output_type": "execute_result"
    }
   ],
   "source": [
    "df.iloc[3:5] #행 슬라이싱 범위는 :을 써라. 범위는 3~4"
   ]
  },
  {
   "cell_type": "code",
   "execution_count": 40,
   "metadata": {},
   "outputs": [
    {
     "data": {
      "text/html": [
       "<div>\n",
       "<style scoped>\n",
       "    .dataframe tbody tr th:only-of-type {\n",
       "        vertical-align: middle;\n",
       "    }\n",
       "\n",
       "    .dataframe tbody tr th {\n",
       "        vertical-align: top;\n",
       "    }\n",
       "\n",
       "    .dataframe thead th {\n",
       "        text-align: right;\n",
       "    }\n",
       "</style>\n",
       "<table border=\"1\" class=\"dataframe\">\n",
       "  <thead>\n",
       "    <tr style=\"text-align: right;\">\n",
       "      <th></th>\n",
       "      <th>A</th>\n",
       "      <th>B</th>\n",
       "      <th>C</th>\n",
       "      <th>D</th>\n",
       "    </tr>\n",
       "  </thead>\n",
       "  <tbody>\n",
       "    <tr>\n",
       "      <th>2019-03-04</th>\n",
       "      <td>-1.291240</td>\n",
       "      <td>-0.521329</td>\n",
       "      <td>-0.963126</td>\n",
       "      <td>1.084003</td>\n",
       "    </tr>\n",
       "    <tr>\n",
       "      <th>2019-03-05</th>\n",
       "      <td>0.509304</td>\n",
       "      <td>2.095738</td>\n",
       "      <td>-0.884959</td>\n",
       "      <td>0.546906</td>\n",
       "    </tr>\n",
       "  </tbody>\n",
       "</table>\n",
       "</div>"
      ],
      "text/plain": [
       "                   A         B         C         D\n",
       "2019-03-04 -1.291240 -0.521329 -0.963126  1.084003\n",
       "2019-03-05  0.509304  2.095738 -0.884959  0.546906"
      ]
     },
     "execution_count": 40,
     "metadata": {},
     "output_type": "execute_result"
    }
   ],
   "source": [
    "imsi = df.iloc[3:5] #iloc, loc는 비파괴함수.\n",
    "imsi #일부만 추출한 결과를 가지고 여러 처리를 하고자 하는 경우, 변수에 저장해놓아야 한다."
   ]
  },
  {
   "cell_type": "code",
   "execution_count": 42,
   "metadata": {},
   "outputs": [
    {
     "data": {
      "text/html": [
       "<div>\n",
       "<style scoped>\n",
       "    .dataframe tbody tr th:only-of-type {\n",
       "        vertical-align: middle;\n",
       "    }\n",
       "\n",
       "    .dataframe tbody tr th {\n",
       "        vertical-align: top;\n",
       "    }\n",
       "\n",
       "    .dataframe thead th {\n",
       "        text-align: right;\n",
       "    }\n",
       "</style>\n",
       "<table border=\"1\" class=\"dataframe\">\n",
       "  <thead>\n",
       "    <tr style=\"text-align: right;\">\n",
       "      <th></th>\n",
       "      <th>A</th>\n",
       "      <th>B</th>\n",
       "      <th>C</th>\n",
       "      <th>D</th>\n",
       "    </tr>\n",
       "  </thead>\n",
       "  <tbody>\n",
       "    <tr>\n",
       "      <th>2019-03-01</th>\n",
       "      <td>0.873927</td>\n",
       "      <td>-0.757187</td>\n",
       "      <td>0.655551</td>\n",
       "      <td>-1.042413</td>\n",
       "    </tr>\n",
       "    <tr>\n",
       "      <th>2019-03-02</th>\n",
       "      <td>-0.940759</td>\n",
       "      <td>-2.697335</td>\n",
       "      <td>0.545112</td>\n",
       "      <td>-1.367606</td>\n",
       "    </tr>\n",
       "    <tr>\n",
       "      <th>2019-03-03</th>\n",
       "      <td>-0.129842</td>\n",
       "      <td>-0.466498</td>\n",
       "      <td>-2.156427</td>\n",
       "      <td>0.532762</td>\n",
       "    </tr>\n",
       "    <tr>\n",
       "      <th>2019-03-04</th>\n",
       "      <td>-1.291240</td>\n",
       "      <td>-0.521329</td>\n",
       "      <td>-0.963126</td>\n",
       "      <td>1.084003</td>\n",
       "    </tr>\n",
       "    <tr>\n",
       "      <th>2019-03-05</th>\n",
       "      <td>0.509304</td>\n",
       "      <td>2.095738</td>\n",
       "      <td>-0.884959</td>\n",
       "      <td>0.546906</td>\n",
       "    </tr>\n",
       "    <tr>\n",
       "      <th>2019-03-06</th>\n",
       "      <td>0.721088</td>\n",
       "      <td>1.000045</td>\n",
       "      <td>1.664606</td>\n",
       "      <td>0.516917</td>\n",
       "    </tr>\n",
       "  </tbody>\n",
       "</table>\n",
       "</div>"
      ],
      "text/plain": [
       "                   A         B         C         D\n",
       "2019-03-01  0.873927 -0.757187  0.655551 -1.042413\n",
       "2019-03-02 -0.940759 -2.697335  0.545112 -1.367606\n",
       "2019-03-03 -0.129842 -0.466498 -2.156427  0.532762\n",
       "2019-03-04 -1.291240 -0.521329 -0.963126  1.084003\n",
       "2019-03-05  0.509304  2.095738 -0.884959  0.546906\n",
       "2019-03-06  0.721088  1.000045  1.664606  0.516917"
      ]
     },
     "execution_count": 42,
     "metadata": {},
     "output_type": "execute_result"
    }
   ],
   "source": [
    "df.iloc[:] #모든 행 검색"
   ]
  },
  {
   "cell_type": "code",
   "execution_count": 43,
   "metadata": {},
   "outputs": [
    {
     "data": {
      "text/html": [
       "<div>\n",
       "<style scoped>\n",
       "    .dataframe tbody tr th:only-of-type {\n",
       "        vertical-align: middle;\n",
       "    }\n",
       "\n",
       "    .dataframe tbody tr th {\n",
       "        vertical-align: top;\n",
       "    }\n",
       "\n",
       "    .dataframe thead th {\n",
       "        text-align: right;\n",
       "    }\n",
       "</style>\n",
       "<table border=\"1\" class=\"dataframe\">\n",
       "  <thead>\n",
       "    <tr style=\"text-align: right;\">\n",
       "      <th></th>\n",
       "      <th>A</th>\n",
       "      <th>B</th>\n",
       "      <th>C</th>\n",
       "      <th>D</th>\n",
       "    </tr>\n",
       "  </thead>\n",
       "  <tbody>\n",
       "    <tr>\n",
       "      <th>2019-03-05</th>\n",
       "      <td>0.509304</td>\n",
       "      <td>2.095738</td>\n",
       "      <td>-0.884959</td>\n",
       "      <td>0.546906</td>\n",
       "    </tr>\n",
       "    <tr>\n",
       "      <th>2019-03-06</th>\n",
       "      <td>0.721088</td>\n",
       "      <td>1.000045</td>\n",
       "      <td>1.664606</td>\n",
       "      <td>0.516917</td>\n",
       "    </tr>\n",
       "  </tbody>\n",
       "</table>\n",
       "</div>"
      ],
      "text/plain": [
       "                   A         B         C         D\n",
       "2019-03-05  0.509304  2.095738 -0.884959  0.546906\n",
       "2019-03-06  0.721088  1.000045  1.664606  0.516917"
      ]
     },
     "execution_count": 43,
     "metadata": {},
     "output_type": "execute_result"
    }
   ],
   "source": [
    "df.iloc[4:] #4부터 끝까지"
   ]
  },
  {
   "cell_type": "code",
   "execution_count": 44,
   "metadata": {},
   "outputs": [
    {
     "data": {
      "text/html": [
       "<div>\n",
       "<style scoped>\n",
       "    .dataframe tbody tr th:only-of-type {\n",
       "        vertical-align: middle;\n",
       "    }\n",
       "\n",
       "    .dataframe tbody tr th {\n",
       "        vertical-align: top;\n",
       "    }\n",
       "\n",
       "    .dataframe thead th {\n",
       "        text-align: right;\n",
       "    }\n",
       "</style>\n",
       "<table border=\"1\" class=\"dataframe\">\n",
       "  <thead>\n",
       "    <tr style=\"text-align: right;\">\n",
       "      <th></th>\n",
       "      <th>A</th>\n",
       "      <th>B</th>\n",
       "      <th>C</th>\n",
       "      <th>D</th>\n",
       "    </tr>\n",
       "  </thead>\n",
       "  <tbody>\n",
       "    <tr>\n",
       "      <th>2019-03-01</th>\n",
       "      <td>0.873927</td>\n",
       "      <td>-0.757187</td>\n",
       "      <td>0.655551</td>\n",
       "      <td>-1.042413</td>\n",
       "    </tr>\n",
       "    <tr>\n",
       "      <th>2019-03-02</th>\n",
       "      <td>-0.940759</td>\n",
       "      <td>-2.697335</td>\n",
       "      <td>0.545112</td>\n",
       "      <td>-1.367606</td>\n",
       "    </tr>\n",
       "    <tr>\n",
       "      <th>2019-03-03</th>\n",
       "      <td>-0.129842</td>\n",
       "      <td>-0.466498</td>\n",
       "      <td>-2.156427</td>\n",
       "      <td>0.532762</td>\n",
       "    </tr>\n",
       "    <tr>\n",
       "      <th>2019-03-04</th>\n",
       "      <td>-1.291240</td>\n",
       "      <td>-0.521329</td>\n",
       "      <td>-0.963126</td>\n",
       "      <td>1.084003</td>\n",
       "    </tr>\n",
       "  </tbody>\n",
       "</table>\n",
       "</div>"
      ],
      "text/plain": [
       "                   A         B         C         D\n",
       "2019-03-01  0.873927 -0.757187  0.655551 -1.042413\n",
       "2019-03-02 -0.940759 -2.697335  0.545112 -1.367606\n",
       "2019-03-03 -0.129842 -0.466498 -2.156427  0.532762\n",
       "2019-03-04 -1.291240 -0.521329 -0.963126  1.084003"
      ]
     },
     "execution_count": 44,
     "metadata": {},
     "output_type": "execute_result"
    }
   ],
   "source": [
    "df.iloc[:4] #시작부터 3까지"
   ]
  },
  {
   "cell_type": "code",
   "execution_count": 46,
   "metadata": {},
   "outputs": [
    {
     "data": {
      "text/plain": [
       "2019-03-01    0.873927\n",
       "2019-03-02   -0.940759\n",
       "2019-03-03   -0.129842\n",
       "2019-03-04   -1.291240\n",
       "2019-03-05    0.509304\n",
       "2019-03-06    0.721088\n",
       "Freq: D, Name: A, dtype: float64"
      ]
     },
     "execution_count": 46,
     "metadata": {},
     "output_type": "execute_result"
    }
   ],
   "source": [
    "df.iloc[:, 0] #모든 행, 0열(A) 추출"
   ]
  },
  {
   "cell_type": "code",
   "execution_count": 47,
   "metadata": {},
   "outputs": [
    {
     "data": {
      "text/plain": [
       "dtype('float64')"
      ]
     },
     "execution_count": 47,
     "metadata": {},
     "output_type": "execute_result"
    }
   ],
   "source": [
    "df.A.dtype #열에 대한 타입 확인"
   ]
  },
  {
   "cell_type": "code",
   "execution_count": 49,
   "metadata": {},
   "outputs": [
    {
     "data": {
      "text/html": [
       "<div>\n",
       "<style scoped>\n",
       "    .dataframe tbody tr th:only-of-type {\n",
       "        vertical-align: middle;\n",
       "    }\n",
       "\n",
       "    .dataframe tbody tr th {\n",
       "        vertical-align: top;\n",
       "    }\n",
       "\n",
       "    .dataframe thead th {\n",
       "        text-align: right;\n",
       "    }\n",
       "</style>\n",
       "<table border=\"1\" class=\"dataframe\">\n",
       "  <thead>\n",
       "    <tr style=\"text-align: right;\">\n",
       "      <th></th>\n",
       "      <th>B</th>\n",
       "      <th>C</th>\n",
       "      <th>D</th>\n",
       "    </tr>\n",
       "  </thead>\n",
       "  <tbody>\n",
       "    <tr>\n",
       "      <th>2019-03-01</th>\n",
       "      <td>-0.757187</td>\n",
       "      <td>0.655551</td>\n",
       "      <td>-1.042413</td>\n",
       "    </tr>\n",
       "    <tr>\n",
       "      <th>2019-03-02</th>\n",
       "      <td>-2.697335</td>\n",
       "      <td>0.545112</td>\n",
       "      <td>-1.367606</td>\n",
       "    </tr>\n",
       "    <tr>\n",
       "      <th>2019-03-03</th>\n",
       "      <td>-0.466498</td>\n",
       "      <td>-2.156427</td>\n",
       "      <td>0.532762</td>\n",
       "    </tr>\n",
       "  </tbody>\n",
       "</table>\n",
       "</div>"
      ],
      "text/plain": [
       "                   B         C         D\n",
       "2019-03-01 -0.757187  0.655551 -1.042413\n",
       "2019-03-02 -2.697335  0.545112 -1.367606\n",
       "2019-03-03 -0.466498 -2.156427  0.532762"
      ]
     },
     "execution_count": 49,
     "metadata": {},
     "output_type": "execute_result"
    }
   ],
   "source": [
    "df.iloc[:3, 1:4]"
   ]
  },
  {
   "cell_type": "code",
   "execution_count": 50,
   "metadata": {},
   "outputs": [
    {
     "data": {
      "text/html": [
       "<div>\n",
       "<style scoped>\n",
       "    .dataframe tbody tr th:only-of-type {\n",
       "        vertical-align: middle;\n",
       "    }\n",
       "\n",
       "    .dataframe tbody tr th {\n",
       "        vertical-align: top;\n",
       "    }\n",
       "\n",
       "    .dataframe thead th {\n",
       "        text-align: right;\n",
       "    }\n",
       "</style>\n",
       "<table border=\"1\" class=\"dataframe\">\n",
       "  <thead>\n",
       "    <tr style=\"text-align: right;\">\n",
       "      <th></th>\n",
       "      <th>B</th>\n",
       "      <th>C</th>\n",
       "    </tr>\n",
       "  </thead>\n",
       "  <tbody>\n",
       "    <tr>\n",
       "      <th>2019-03-01</th>\n",
       "      <td>-0.757187</td>\n",
       "      <td>0.655551</td>\n",
       "    </tr>\n",
       "    <tr>\n",
       "      <th>2019-03-04</th>\n",
       "      <td>-0.521329</td>\n",
       "      <td>-0.963126</td>\n",
       "    </tr>\n",
       "  </tbody>\n",
       "</table>\n",
       "</div>"
      ],
      "text/plain": [
       "                   B         C\n",
       "2019-03-01 -0.757187  0.655551\n",
       "2019-03-04 -0.521329 -0.963126"
      ]
     },
     "execution_count": 50,
     "metadata": {},
     "output_type": "execute_result"
    }
   ],
   "source": [
    "#일부분을 추출하고자 하는 경우 리스트를 써라 [1, 3, 5]\n",
    "df.iloc[[0, 3], 1:3]"
   ]
  },
  {
   "cell_type": "code",
   "execution_count": 52,
   "metadata": {},
   "outputs": [
    {
     "data": {
      "text/html": [
       "<div>\n",
       "<style scoped>\n",
       "    .dataframe tbody tr th:only-of-type {\n",
       "        vertical-align: middle;\n",
       "    }\n",
       "\n",
       "    .dataframe tbody tr th {\n",
       "        vertical-align: top;\n",
       "    }\n",
       "\n",
       "    .dataframe thead th {\n",
       "        text-align: right;\n",
       "    }\n",
       "</style>\n",
       "<table border=\"1\" class=\"dataframe\">\n",
       "  <thead>\n",
       "    <tr style=\"text-align: right;\">\n",
       "      <th></th>\n",
       "      <th>B</th>\n",
       "      <th>D</th>\n",
       "    </tr>\n",
       "  </thead>\n",
       "  <tbody>\n",
       "    <tr>\n",
       "      <th>2019-03-01</th>\n",
       "      <td>-0.757187</td>\n",
       "      <td>-1.042413</td>\n",
       "    </tr>\n",
       "    <tr>\n",
       "      <th>2019-03-04</th>\n",
       "      <td>-0.521329</td>\n",
       "      <td>1.084003</td>\n",
       "    </tr>\n",
       "  </tbody>\n",
       "</table>\n",
       "</div>"
      ],
      "text/plain": [
       "                   B         D\n",
       "2019-03-01 -0.757187 -1.042413\n",
       "2019-03-04 -0.521329  1.084003"
      ]
     },
     "execution_count": 52,
     "metadata": {},
     "output_type": "execute_result"
    }
   ],
   "source": [
    "df.iloc[[0, 3], [1, 3]]"
   ]
  },
  {
   "cell_type": "code",
   "execution_count": 53,
   "metadata": {},
   "outputs": [
    {
     "data": {
      "text/plain": [
       "2019-03-01     True\n",
       "2019-03-02    False\n",
       "2019-03-03    False\n",
       "2019-03-04    False\n",
       "2019-03-05     True\n",
       "2019-03-06     True\n",
       "Freq: D, Name: A, dtype: bool"
      ]
     },
     "execution_count": 53,
     "metadata": {},
     "output_type": "execute_result"
    }
   ],
   "source": [
    "df['A'] > 0 #모든 행들에 대해 비교 연산을 수행"
   ]
  },
  {
   "cell_type": "code",
   "execution_count": 54,
   "metadata": {},
   "outputs": [
    {
     "data": {
      "text/html": [
       "<div>\n",
       "<style scoped>\n",
       "    .dataframe tbody tr th:only-of-type {\n",
       "        vertical-align: middle;\n",
       "    }\n",
       "\n",
       "    .dataframe tbody tr th {\n",
       "        vertical-align: top;\n",
       "    }\n",
       "\n",
       "    .dataframe thead th {\n",
       "        text-align: right;\n",
       "    }\n",
       "</style>\n",
       "<table border=\"1\" class=\"dataframe\">\n",
       "  <thead>\n",
       "    <tr style=\"text-align: right;\">\n",
       "      <th></th>\n",
       "      <th>A</th>\n",
       "      <th>B</th>\n",
       "      <th>C</th>\n",
       "      <th>D</th>\n",
       "    </tr>\n",
       "  </thead>\n",
       "  <tbody>\n",
       "    <tr>\n",
       "      <th>2019-03-01</th>\n",
       "      <td>0.873927</td>\n",
       "      <td>-0.757187</td>\n",
       "      <td>0.655551</td>\n",
       "      <td>-1.042413</td>\n",
       "    </tr>\n",
       "    <tr>\n",
       "      <th>2019-03-05</th>\n",
       "      <td>0.509304</td>\n",
       "      <td>2.095738</td>\n",
       "      <td>-0.884959</td>\n",
       "      <td>0.546906</td>\n",
       "    </tr>\n",
       "    <tr>\n",
       "      <th>2019-03-06</th>\n",
       "      <td>0.721088</td>\n",
       "      <td>1.000045</td>\n",
       "      <td>1.664606</td>\n",
       "      <td>0.516917</td>\n",
       "    </tr>\n",
       "  </tbody>\n",
       "</table>\n",
       "</div>"
      ],
      "text/plain": [
       "                   A         B         C         D\n",
       "2019-03-01  0.873927 -0.757187  0.655551 -1.042413\n",
       "2019-03-05  0.509304  2.095738 -0.884959  0.546906\n",
       "2019-03-06  0.721088  1.000045  1.664606  0.516917"
      ]
     },
     "execution_count": 54,
     "metadata": {},
     "output_type": "execute_result"
    }
   ],
   "source": [
    "df[df['A'] > 0] #df[검색할 조건], 검색할 조건은 비교연산자 \"df['A'] > 0\""
   ]
  },
  {
   "cell_type": "code",
   "execution_count": 58,
   "metadata": {},
   "outputs": [
    {
     "data": {
      "text/html": [
       "<div>\n",
       "<style scoped>\n",
       "    .dataframe tbody tr th:only-of-type {\n",
       "        vertical-align: middle;\n",
       "    }\n",
       "\n",
       "    .dataframe tbody tr th {\n",
       "        vertical-align: top;\n",
       "    }\n",
       "\n",
       "    .dataframe thead th {\n",
       "        text-align: right;\n",
       "    }\n",
       "</style>\n",
       "<table border=\"1\" class=\"dataframe\">\n",
       "  <thead>\n",
       "    <tr style=\"text-align: right;\">\n",
       "      <th></th>\n",
       "      <th>A</th>\n",
       "      <th>B</th>\n",
       "      <th>C</th>\n",
       "      <th>D</th>\n",
       "      <th>E</th>\n",
       "    </tr>\n",
       "  </thead>\n",
       "  <tbody>\n",
       "    <tr>\n",
       "      <th>2019-03-01</th>\n",
       "      <td>0.873927</td>\n",
       "      <td>-0.757187</td>\n",
       "      <td>0.655551</td>\n",
       "      <td>-1.042413</td>\n",
       "      <td>0</td>\n",
       "    </tr>\n",
       "    <tr>\n",
       "      <th>2019-03-02</th>\n",
       "      <td>-0.940759</td>\n",
       "      <td>-2.697335</td>\n",
       "      <td>0.545112</td>\n",
       "      <td>-1.367606</td>\n",
       "      <td>0</td>\n",
       "    </tr>\n",
       "    <tr>\n",
       "      <th>2019-03-03</th>\n",
       "      <td>-0.129842</td>\n",
       "      <td>-0.466498</td>\n",
       "      <td>-2.156427</td>\n",
       "      <td>0.532762</td>\n",
       "      <td>0</td>\n",
       "    </tr>\n",
       "    <tr>\n",
       "      <th>2019-03-04</th>\n",
       "      <td>-1.291240</td>\n",
       "      <td>-0.521329</td>\n",
       "      <td>-0.963126</td>\n",
       "      <td>1.084003</td>\n",
       "      <td>0</td>\n",
       "    </tr>\n",
       "    <tr>\n",
       "      <th>2019-03-05</th>\n",
       "      <td>0.509304</td>\n",
       "      <td>2.095738</td>\n",
       "      <td>-0.884959</td>\n",
       "      <td>0.546906</td>\n",
       "      <td>0</td>\n",
       "    </tr>\n",
       "    <tr>\n",
       "      <th>2019-03-06</th>\n",
       "      <td>0.721088</td>\n",
       "      <td>1.000045</td>\n",
       "      <td>1.664606</td>\n",
       "      <td>0.516917</td>\n",
       "      <td>0</td>\n",
       "    </tr>\n",
       "  </tbody>\n",
       "</table>\n",
       "</div>"
      ],
      "text/plain": [
       "                   A         B         C         D  E\n",
       "2019-03-01  0.873927 -0.757187  0.655551 -1.042413  0\n",
       "2019-03-02 -0.940759 -2.697335  0.545112 -1.367606  0\n",
       "2019-03-03 -0.129842 -0.466498 -2.156427  0.532762  0\n",
       "2019-03-04 -1.291240 -0.521329 -0.963126  1.084003  0\n",
       "2019-03-05  0.509304  2.095738 -0.884959  0.546906  0\n",
       "2019-03-06  0.721088  1.000045  1.664606  0.516917  0"
      ]
     },
     "execution_count": 58,
     "metadata": {},
     "output_type": "execute_result"
    }
   ],
   "source": [
    "# 파생변수 : 추가한 열\n",
    "# df['파생변수이름'] = 값(리스트형태)\n",
    "df['E'] = 0 #동일한 값을 지정하면 모두 동일한 값으로 브로드캐스팅 된다.\n",
    "df"
   ]
  },
  {
   "cell_type": "code",
   "execution_count": 60,
   "metadata": {},
   "outputs": [
    {
     "data": {
      "text/html": [
       "<div>\n",
       "<style scoped>\n",
       "    .dataframe tbody tr th:only-of-type {\n",
       "        vertical-align: middle;\n",
       "    }\n",
       "\n",
       "    .dataframe tbody tr th {\n",
       "        vertical-align: top;\n",
       "    }\n",
       "\n",
       "    .dataframe thead th {\n",
       "        text-align: right;\n",
       "    }\n",
       "</style>\n",
       "<table border=\"1\" class=\"dataframe\">\n",
       "  <thead>\n",
       "    <tr style=\"text-align: right;\">\n",
       "      <th></th>\n",
       "      <th>A</th>\n",
       "      <th>B</th>\n",
       "      <th>C</th>\n",
       "      <th>D</th>\n",
       "      <th>E</th>\n",
       "      <th>F</th>\n",
       "    </tr>\n",
       "  </thead>\n",
       "  <tbody>\n",
       "    <tr>\n",
       "      <th>2019-03-01</th>\n",
       "      <td>0.873927</td>\n",
       "      <td>-0.757187</td>\n",
       "      <td>0.655551</td>\n",
       "      <td>-1.042413</td>\n",
       "      <td>0</td>\n",
       "      <td>100</td>\n",
       "    </tr>\n",
       "    <tr>\n",
       "      <th>2019-03-02</th>\n",
       "      <td>-0.940759</td>\n",
       "      <td>-2.697335</td>\n",
       "      <td>0.545112</td>\n",
       "      <td>-1.367606</td>\n",
       "      <td>0</td>\n",
       "      <td>200</td>\n",
       "    </tr>\n",
       "    <tr>\n",
       "      <th>2019-03-03</th>\n",
       "      <td>-0.129842</td>\n",
       "      <td>-0.466498</td>\n",
       "      <td>-2.156427</td>\n",
       "      <td>0.532762</td>\n",
       "      <td>0</td>\n",
       "      <td>300</td>\n",
       "    </tr>\n",
       "    <tr>\n",
       "      <th>2019-03-04</th>\n",
       "      <td>-1.291240</td>\n",
       "      <td>-0.521329</td>\n",
       "      <td>-0.963126</td>\n",
       "      <td>1.084003</td>\n",
       "      <td>0</td>\n",
       "      <td>400</td>\n",
       "    </tr>\n",
       "    <tr>\n",
       "      <th>2019-03-05</th>\n",
       "      <td>0.509304</td>\n",
       "      <td>2.095738</td>\n",
       "      <td>-0.884959</td>\n",
       "      <td>0.546906</td>\n",
       "      <td>0</td>\n",
       "      <td>500</td>\n",
       "    </tr>\n",
       "    <tr>\n",
       "      <th>2019-03-06</th>\n",
       "      <td>0.721088</td>\n",
       "      <td>1.000045</td>\n",
       "      <td>1.664606</td>\n",
       "      <td>0.516917</td>\n",
       "      <td>0</td>\n",
       "      <td>600</td>\n",
       "    </tr>\n",
       "  </tbody>\n",
       "</table>\n",
       "</div>"
      ],
      "text/plain": [
       "                   A         B         C         D  E    F\n",
       "2019-03-01  0.873927 -0.757187  0.655551 -1.042413  0  100\n",
       "2019-03-02 -0.940759 -2.697335  0.545112 -1.367606  0  200\n",
       "2019-03-03 -0.129842 -0.466498 -2.156427  0.532762  0  300\n",
       "2019-03-04 -1.291240 -0.521329 -0.963126  1.084003  0  400\n",
       "2019-03-05  0.509304  2.095738 -0.884959  0.546906  0  500\n",
       "2019-03-06  0.721088  1.000045  1.664606  0.516917  0  600"
      ]
     },
     "execution_count": 60,
     "metadata": {},
     "output_type": "execute_result"
    }
   ],
   "source": [
    "df['F'] = [100, 200, 300, 400, 500, 600]\n",
    "df"
   ]
  },
  {
   "cell_type": "code",
   "execution_count": 64,
   "metadata": {},
   "outputs": [
    {
     "data": {
      "text/html": [
       "<div>\n",
       "<style scoped>\n",
       "    .dataframe tbody tr th:only-of-type {\n",
       "        vertical-align: middle;\n",
       "    }\n",
       "\n",
       "    .dataframe tbody tr th {\n",
       "        vertical-align: top;\n",
       "    }\n",
       "\n",
       "    .dataframe thead th {\n",
       "        text-align: right;\n",
       "    }\n",
       "</style>\n",
       "<table border=\"1\" class=\"dataframe\">\n",
       "  <thead>\n",
       "    <tr style=\"text-align: right;\">\n",
       "      <th></th>\n",
       "      <th>A</th>\n",
       "      <th>B</th>\n",
       "      <th>C</th>\n",
       "      <th>D</th>\n",
       "      <th>E</th>\n",
       "      <th>F</th>\n",
       "      <th>G</th>\n",
       "      <th>H</th>\n",
       "    </tr>\n",
       "  </thead>\n",
       "  <tbody>\n",
       "    <tr>\n",
       "      <th>2019-03-01</th>\n",
       "      <td>0.873927</td>\n",
       "      <td>-0.757187</td>\n",
       "      <td>0.655551</td>\n",
       "      <td>-1.042413</td>\n",
       "      <td>0</td>\n",
       "      <td>100</td>\n",
       "      <td>NaN</td>\n",
       "      <td>0.116740</td>\n",
       "    </tr>\n",
       "    <tr>\n",
       "      <th>2019-03-02</th>\n",
       "      <td>-0.940759</td>\n",
       "      <td>-2.697335</td>\n",
       "      <td>0.545112</td>\n",
       "      <td>-1.367606</td>\n",
       "      <td>0</td>\n",
       "      <td>200</td>\n",
       "      <td>NaN</td>\n",
       "      <td>-3.638094</td>\n",
       "    </tr>\n",
       "    <tr>\n",
       "      <th>2019-03-03</th>\n",
       "      <td>-0.129842</td>\n",
       "      <td>-0.466498</td>\n",
       "      <td>-2.156427</td>\n",
       "      <td>0.532762</td>\n",
       "      <td>0</td>\n",
       "      <td>300</td>\n",
       "      <td>NaN</td>\n",
       "      <td>-0.596340</td>\n",
       "    </tr>\n",
       "    <tr>\n",
       "      <th>2019-03-04</th>\n",
       "      <td>-1.291240</td>\n",
       "      <td>-0.521329</td>\n",
       "      <td>-0.963126</td>\n",
       "      <td>1.084003</td>\n",
       "      <td>0</td>\n",
       "      <td>400</td>\n",
       "      <td>NaN</td>\n",
       "      <td>-1.812568</td>\n",
       "    </tr>\n",
       "    <tr>\n",
       "      <th>2019-03-05</th>\n",
       "      <td>0.509304</td>\n",
       "      <td>2.095738</td>\n",
       "      <td>-0.884959</td>\n",
       "      <td>0.546906</td>\n",
       "      <td>0</td>\n",
       "      <td>500</td>\n",
       "      <td>NaN</td>\n",
       "      <td>2.605042</td>\n",
       "    </tr>\n",
       "    <tr>\n",
       "      <th>2019-03-06</th>\n",
       "      <td>0.721088</td>\n",
       "      <td>1.000045</td>\n",
       "      <td>1.664606</td>\n",
       "      <td>0.516917</td>\n",
       "      <td>0</td>\n",
       "      <td>600</td>\n",
       "      <td>NaN</td>\n",
       "      <td>1.721133</td>\n",
       "    </tr>\n",
       "  </tbody>\n",
       "</table>\n",
       "</div>"
      ],
      "text/plain": [
       "                   A         B         C         D  E    F   G         H\n",
       "2019-03-01  0.873927 -0.757187  0.655551 -1.042413  0  100 NaN  0.116740\n",
       "2019-03-02 -0.940759 -2.697335  0.545112 -1.367606  0  200 NaN -3.638094\n",
       "2019-03-03 -0.129842 -0.466498 -2.156427  0.532762  0  300 NaN -0.596340\n",
       "2019-03-04 -1.291240 -0.521329 -0.963126  1.084003  0  400 NaN -1.812568\n",
       "2019-03-05  0.509304  2.095738 -0.884959  0.546906  0  500 NaN  2.605042\n",
       "2019-03-06  0.721088  1.000045  1.664606  0.516917  0  600 NaN  1.721133"
      ]
     },
     "execution_count": 64,
     "metadata": {},
     "output_type": "execute_result"
    }
   ],
   "source": [
    "df['G'] = np.nan # 브로드캐스팅: 특정한 연산 혹은 값이 \n",
    "df"
   ]
  },
  {
   "cell_type": "code",
   "execution_count": 91,
   "metadata": {},
   "outputs": [
    {
     "data": {
      "text/html": [
       "<div>\n",
       "<style scoped>\n",
       "    .dataframe tbody tr th:only-of-type {\n",
       "        vertical-align: middle;\n",
       "    }\n",
       "\n",
       "    .dataframe tbody tr th {\n",
       "        vertical-align: top;\n",
       "    }\n",
       "\n",
       "    .dataframe thead th {\n",
       "        text-align: right;\n",
       "    }\n",
       "</style>\n",
       "<table border=\"1\" class=\"dataframe\">\n",
       "  <thead>\n",
       "    <tr style=\"text-align: right;\">\n",
       "      <th></th>\n",
       "      <th>A</th>\n",
       "      <th>B</th>\n",
       "      <th>C</th>\n",
       "      <th>D</th>\n",
       "      <th>E</th>\n",
       "      <th>F</th>\n",
       "      <th>G</th>\n",
       "      <th>H</th>\n",
       "      <th>(2019-03-03, E)</th>\n",
       "    </tr>\n",
       "  </thead>\n",
       "  <tbody>\n",
       "    <tr>\n",
       "      <th>2019-03-01</th>\n",
       "      <td>0.873927</td>\n",
       "      <td>-0.757187</td>\n",
       "      <td>0.655551</td>\n",
       "      <td>-1.042413</td>\n",
       "      <td>0</td>\n",
       "      <td>100</td>\n",
       "      <td>NaN</td>\n",
       "      <td>0.116740</td>\n",
       "      <td>2</td>\n",
       "    </tr>\n",
       "    <tr>\n",
       "      <th>2019-03-02</th>\n",
       "      <td>-0.940759</td>\n",
       "      <td>-2.697335</td>\n",
       "      <td>0.545112</td>\n",
       "      <td>-1.367606</td>\n",
       "      <td>2</td>\n",
       "      <td>200</td>\n",
       "      <td>NaN</td>\n",
       "      <td>-3.638094</td>\n",
       "      <td>2</td>\n",
       "    </tr>\n",
       "    <tr>\n",
       "      <th>2019-03-03</th>\n",
       "      <td>-0.129842</td>\n",
       "      <td>-0.466498</td>\n",
       "      <td>-2.156427</td>\n",
       "      <td>0.532762</td>\n",
       "      <td>0</td>\n",
       "      <td>300</td>\n",
       "      <td>NaN</td>\n",
       "      <td>-0.596340</td>\n",
       "      <td>2</td>\n",
       "    </tr>\n",
       "    <tr>\n",
       "      <th>2019-03-04</th>\n",
       "      <td>-1.291240</td>\n",
       "      <td>-0.521329</td>\n",
       "      <td>-0.963126</td>\n",
       "      <td>1.084003</td>\n",
       "      <td>0</td>\n",
       "      <td>400</td>\n",
       "      <td>NaN</td>\n",
       "      <td>-1.812568</td>\n",
       "      <td>2</td>\n",
       "    </tr>\n",
       "    <tr>\n",
       "      <th>2019-03-05</th>\n",
       "      <td>0.509304</td>\n",
       "      <td>2.095738</td>\n",
       "      <td>-0.884959</td>\n",
       "      <td>0.546906</td>\n",
       "      <td>0</td>\n",
       "      <td>500</td>\n",
       "      <td>NaN</td>\n",
       "      <td>2.605042</td>\n",
       "      <td>2</td>\n",
       "    </tr>\n",
       "    <tr>\n",
       "      <th>2019-03-06</th>\n",
       "      <td>0.721088</td>\n",
       "      <td>1.000045</td>\n",
       "      <td>1.664606</td>\n",
       "      <td>0.516917</td>\n",
       "      <td>0</td>\n",
       "      <td>600</td>\n",
       "      <td>NaN</td>\n",
       "      <td>1.721133</td>\n",
       "      <td>2</td>\n",
       "    </tr>\n",
       "  </tbody>\n",
       "</table>\n",
       "</div>"
      ],
      "text/plain": [
       "                   A         B         C         D  E    F   G         H  \\\n",
       "2019-03-01  0.873927 -0.757187  0.655551 -1.042413  0  100 NaN  0.116740   \n",
       "2019-03-02 -0.940759 -2.697335  0.545112 -1.367606  2  200 NaN -3.638094   \n",
       "2019-03-03 -0.129842 -0.466498 -2.156427  0.532762  0  300 NaN -0.596340   \n",
       "2019-03-04 -1.291240 -0.521329 -0.963126  1.084003  0  400 NaN -1.812568   \n",
       "2019-03-05  0.509304  2.095738 -0.884959  0.546906  0  500 NaN  2.605042   \n",
       "2019-03-06  0.721088  1.000045  1.664606  0.516917  0  600 NaN  1.721133   \n",
       "\n",
       "            (2019-03-03, E)  \n",
       "2019-03-01                2  \n",
       "2019-03-02                2  \n",
       "2019-03-03                2  \n",
       "2019-03-04                2  \n",
       "2019-03-05                2  \n",
       "2019-03-06                2  "
      ]
     },
     "execution_count": 91,
     "metadata": {},
     "output_type": "execute_result"
    }
   ],
   "source": [
    "df.loc['2019-03-02', 'E'] = 2\n",
    "df"
   ]
  },
  {
   "cell_type": "code",
   "execution_count": 87,
   "metadata": {},
   "outputs": [
    {
     "data": {
      "text/html": [
       "<div>\n",
       "<style scoped>\n",
       "    .dataframe tbody tr th:only-of-type {\n",
       "        vertical-align: middle;\n",
       "    }\n",
       "\n",
       "    .dataframe tbody tr th {\n",
       "        vertical-align: top;\n",
       "    }\n",
       "\n",
       "    .dataframe thead th {\n",
       "        text-align: right;\n",
       "    }\n",
       "</style>\n",
       "<table border=\"1\" class=\"dataframe\">\n",
       "  <thead>\n",
       "    <tr style=\"text-align: right;\">\n",
       "      <th></th>\n",
       "      <th>A</th>\n",
       "      <th>B</th>\n",
       "      <th>C</th>\n",
       "      <th>D</th>\n",
       "      <th>E</th>\n",
       "      <th>F</th>\n",
       "      <th>G</th>\n",
       "      <th>H</th>\n",
       "      <th>(2019-03-03, E)</th>\n",
       "    </tr>\n",
       "  </thead>\n",
       "  <tbody>\n",
       "    <tr>\n",
       "      <th>2019-03-01</th>\n",
       "      <td>0.873927</td>\n",
       "      <td>-0.757187</td>\n",
       "      <td>0.655551</td>\n",
       "      <td>-1.042413</td>\n",
       "      <td>0</td>\n",
       "      <td>100</td>\n",
       "      <td>NaN</td>\n",
       "      <td>0.116740</td>\n",
       "      <td>2</td>\n",
       "    </tr>\n",
       "    <tr>\n",
       "      <th>2019-03-02</th>\n",
       "      <td>-0.940759</td>\n",
       "      <td>-2.697335</td>\n",
       "      <td>0.545112</td>\n",
       "      <td>-1.367606</td>\n",
       "      <td>2</td>\n",
       "      <td>200</td>\n",
       "      <td>NaN</td>\n",
       "      <td>-3.638094</td>\n",
       "      <td>2</td>\n",
       "    </tr>\n",
       "    <tr>\n",
       "      <th>2019-03-03</th>\n",
       "      <td>-0.129842</td>\n",
       "      <td>-0.466498</td>\n",
       "      <td>-2.156427</td>\n",
       "      <td>0.532762</td>\n",
       "      <td>0</td>\n",
       "      <td>300</td>\n",
       "      <td>NaN</td>\n",
       "      <td>-0.596340</td>\n",
       "      <td>2</td>\n",
       "    </tr>\n",
       "    <tr>\n",
       "      <th>2019-03-04</th>\n",
       "      <td>-1.291240</td>\n",
       "      <td>-0.521329</td>\n",
       "      <td>-0.963126</td>\n",
       "      <td>1.084003</td>\n",
       "      <td>0</td>\n",
       "      <td>400</td>\n",
       "      <td>NaN</td>\n",
       "      <td>-1.812568</td>\n",
       "      <td>2</td>\n",
       "    </tr>\n",
       "    <tr>\n",
       "      <th>2019-03-05</th>\n",
       "      <td>0.509304</td>\n",
       "      <td>2.095738</td>\n",
       "      <td>-0.884959</td>\n",
       "      <td>0.546906</td>\n",
       "      <td>0</td>\n",
       "      <td>500</td>\n",
       "      <td>NaN</td>\n",
       "      <td>2.605042</td>\n",
       "      <td>2</td>\n",
       "    </tr>\n",
       "    <tr>\n",
       "      <th>2019-03-06</th>\n",
       "      <td>0.721088</td>\n",
       "      <td>1.000045</td>\n",
       "      <td>1.664606</td>\n",
       "      <td>0.516917</td>\n",
       "      <td>0</td>\n",
       "      <td>600</td>\n",
       "      <td>NaN</td>\n",
       "      <td>1.721133</td>\n",
       "      <td>2</td>\n",
       "    </tr>\n",
       "  </tbody>\n",
       "</table>\n",
       "</div>"
      ],
      "text/plain": [
       "                   A         B         C         D  E    F   G         H  \\\n",
       "2019-03-01  0.873927 -0.757187  0.655551 -1.042413  0  100 NaN  0.116740   \n",
       "2019-03-02 -0.940759 -2.697335  0.545112 -1.367606  2  200 NaN -3.638094   \n",
       "2019-03-03 -0.129842 -0.466498 -2.156427  0.532762  0  300 NaN -0.596340   \n",
       "2019-03-04 -1.291240 -0.521329 -0.963126  1.084003  0  400 NaN -1.812568   \n",
       "2019-03-05  0.509304  2.095738 -0.884959  0.546906  0  500 NaN  2.605042   \n",
       "2019-03-06  0.721088  1.000045  1.664606  0.516917  0  600 NaN  1.721133   \n",
       "\n",
       "            (2019-03-03, E)  \n",
       "2019-03-01                2  \n",
       "2019-03-02                2  \n",
       "2019-03-03                2  \n",
       "2019-03-04                2  \n",
       "2019-03-05                2  \n",
       "2019-03-06                2  "
      ]
     },
     "execution_count": 87,
     "metadata": {},
     "output_type": "execute_result"
    }
   ],
   "source": [
    "df['H'] = df['A'] + df['B']\n",
    "df"
   ]
  },
  {
   "cell_type": "code",
   "execution_count": 69,
   "metadata": {},
   "outputs": [
    {
     "data": {
      "text/html": [
       "<div>\n",
       "<style scoped>\n",
       "    .dataframe tbody tr th:only-of-type {\n",
       "        vertical-align: middle;\n",
       "    }\n",
       "\n",
       "    .dataframe tbody tr th {\n",
       "        vertical-align: top;\n",
       "    }\n",
       "\n",
       "    .dataframe thead th {\n",
       "        text-align: right;\n",
       "    }\n",
       "</style>\n",
       "<table border=\"1\" class=\"dataframe\">\n",
       "  <thead>\n",
       "    <tr style=\"text-align: right;\">\n",
       "      <th></th>\n",
       "      <th>기간</th>\n",
       "      <th>구분</th>\n",
       "      <th>전체</th>\n",
       "      <th>남학생</th>\n",
       "      <th>여학생</th>\n",
       "      <th>전체.1</th>\n",
       "      <th>남학생.1</th>\n",
       "      <th>여학생.1</th>\n",
       "      <th>전체.2</th>\n",
       "      <th>남학생.2</th>\n",
       "      <th>여학생.2</th>\n",
       "    </tr>\n",
       "  </thead>\n",
       "  <tbody>\n",
       "    <tr>\n",
       "      <th>0</th>\n",
       "      <td>2018</td>\n",
       "      <td>구분</td>\n",
       "      <td>42.7</td>\n",
       "      <td>34.5</td>\n",
       "      <td>51.5</td>\n",
       "      <td>29.6</td>\n",
       "      <td>24.2</td>\n",
       "      <td>35.4</td>\n",
       "      <td>15.4</td>\n",
       "      <td>11.8</td>\n",
       "      <td>19.2</td>\n",
       "    </tr>\n",
       "  </tbody>\n",
       "</table>\n",
       "</div>"
      ],
      "text/plain": [
       "     기간 구분     전체   남학생   여학생  전체.1  남학생.1  여학생.1  전체.2  남학생.2  여학생.2\n",
       "0  2018  구분  42.7  34.5  51.5  29.6   24.2   35.4  15.4   11.8   19.2"
      ]
     },
     "execution_count": 69,
     "metadata": {},
     "output_type": "execute_result"
    }
   ],
   "source": [
    "teen = pd.read_excel('../data/teenage_mental.xls', header=1)\n",
    "teen"
   ]
  },
  {
   "cell_type": "code",
   "execution_count": 70,
   "metadata": {},
   "outputs": [
    {
     "data": {
      "text/html": [
       "<div>\n",
       "<style scoped>\n",
       "    .dataframe tbody tr th:only-of-type {\n",
       "        vertical-align: middle;\n",
       "    }\n",
       "\n",
       "    .dataframe tbody tr th {\n",
       "        vertical-align: top;\n",
       "    }\n",
       "\n",
       "    .dataframe thead th {\n",
       "        text-align: right;\n",
       "    }\n",
       "</style>\n",
       "<table border=\"1\" class=\"dataframe\">\n",
       "  <thead>\n",
       "    <tr style=\"text-align: right;\">\n",
       "      <th></th>\n",
       "      <th>전체</th>\n",
       "      <th>남학생</th>\n",
       "      <th>여학생</th>\n",
       "      <th>전체.1</th>\n",
       "      <th>남학생.1</th>\n",
       "      <th>여학생.1</th>\n",
       "      <th>전체.2</th>\n",
       "      <th>남학생.2</th>\n",
       "      <th>여학생.2</th>\n",
       "    </tr>\n",
       "  </thead>\n",
       "  <tbody>\n",
       "    <tr>\n",
       "      <th>0</th>\n",
       "      <td>42.7</td>\n",
       "      <td>34.5</td>\n",
       "      <td>51.5</td>\n",
       "      <td>29.6</td>\n",
       "      <td>24.2</td>\n",
       "      <td>35.4</td>\n",
       "      <td>15.4</td>\n",
       "      <td>11.8</td>\n",
       "      <td>19.2</td>\n",
       "    </tr>\n",
       "  </tbody>\n",
       "</table>\n",
       "</div>"
      ],
      "text/plain": [
       "     전체   남학생   여학생  전체.1  남학생.1  여학생.1  전체.2  남학생.2  여학생.2\n",
       "0  42.7  34.5  51.5  29.6   24.2   35.4  15.4   11.8   19.2"
      ]
     },
     "execution_count": 70,
     "metadata": {},
     "output_type": "execute_result"
    }
   ],
   "source": [
    "teen = pd.read_excel('../data/teenage_mental.xls', header=1, usecols='C:K')\n",
    "teen"
   ]
  },
  {
   "cell_type": "code",
   "execution_count": 72,
   "metadata": {},
   "outputs": [
    {
     "data": {
      "text/html": [
       "<div>\n",
       "<style scoped>\n",
       "    .dataframe tbody tr th:only-of-type {\n",
       "        vertical-align: middle;\n",
       "    }\n",
       "\n",
       "    .dataframe tbody tr th {\n",
       "        vertical-align: top;\n",
       "    }\n",
       "\n",
       "    .dataframe thead th {\n",
       "        text-align: right;\n",
       "    }\n",
       "</style>\n",
       "<table border=\"1\" class=\"dataframe\">\n",
       "  <thead>\n",
       "    <tr style=\"text-align: right;\">\n",
       "      <th></th>\n",
       "      <th>스트레스 전체</th>\n",
       "      <th>스트레스 남학생</th>\n",
       "      <th>스트레스 여학생</th>\n",
       "      <th>우울 전체</th>\n",
       "      <th>우울 남학생</th>\n",
       "      <th>우울 여학생</th>\n",
       "      <th>자살 전체</th>\n",
       "      <th>자살 남학생</th>\n",
       "      <th>자살 여학생</th>\n",
       "    </tr>\n",
       "  </thead>\n",
       "  <tbody>\n",
       "    <tr>\n",
       "      <th>0</th>\n",
       "      <td>42.7</td>\n",
       "      <td>34.5</td>\n",
       "      <td>51.5</td>\n",
       "      <td>29.6</td>\n",
       "      <td>24.2</td>\n",
       "      <td>35.4</td>\n",
       "      <td>15.4</td>\n",
       "      <td>11.8</td>\n",
       "      <td>19.2</td>\n",
       "    </tr>\n",
       "  </tbody>\n",
       "</table>\n",
       "</div>"
      ],
      "text/plain": [
       "   스트레스 전체  스트레스 남학생  스트레스 여학생  우울 전체  우울 남학생  우울 여학생  자살 전체  자살 남학생  자살 여학생\n",
       "0     42.7      34.5      51.5   29.6    24.2    35.4   15.4    11.8    19.2"
      ]
     },
     "execution_count": 72,
     "metadata": {},
     "output_type": "execute_result"
    }
   ],
   "source": [
    "col_names = ['스트레스 전체', '스트레스 남학생', '스트레스 여학생', '우울 전체', '우울 남학생',\n",
    "             '우울 여학생', '자살 전체', '자살 남학생', '자살 여학생']\n",
    "teen = pd.read_excel('../data/teenage_mental.xls', \n",
    "                     header=1, \n",
    "                     usecols='C:K',\n",
    "                    names=col_names\n",
    "                    )\n",
    "teen\n"
   ]
  },
  {
   "cell_type": "code",
   "execution_count": 78,
   "metadata": {},
   "outputs": [
    {
     "data": {
      "text/html": [
       "<div>\n",
       "<style scoped>\n",
       "    .dataframe tbody tr th:only-of-type {\n",
       "        vertical-align: middle;\n",
       "    }\n",
       "\n",
       "    .dataframe tbody tr th {\n",
       "        vertical-align: top;\n",
       "    }\n",
       "\n",
       "    .dataframe thead th {\n",
       "        text-align: right;\n",
       "    }\n",
       "</style>\n",
       "<table border=\"1\" class=\"dataframe\">\n",
       "  <thead>\n",
       "    <tr style=\"text-align: right;\">\n",
       "      <th></th>\n",
       "      <th>스트레스 전체</th>\n",
       "      <th>스트레스 남학생</th>\n",
       "      <th>스트레스 여학생</th>\n",
       "      <th>우울 전체</th>\n",
       "      <th>우울 남학생</th>\n",
       "      <th>우울 여학생</th>\n",
       "      <th>자살 전체</th>\n",
       "      <th>자살 남학생</th>\n",
       "      <th>자살 여학생</th>\n",
       "    </tr>\n",
       "  </thead>\n",
       "  <tbody>\n",
       "    <tr>\n",
       "      <th>0</th>\n",
       "      <td>42.7</td>\n",
       "      <td>34.5</td>\n",
       "      <td>51.5</td>\n",
       "      <td>29.6</td>\n",
       "      <td>24.2</td>\n",
       "      <td>35.4</td>\n",
       "      <td>15.4</td>\n",
       "      <td>11.8</td>\n",
       "      <td>19.2</td>\n",
       "    </tr>\n",
       "    <tr>\n",
       "      <th>1</th>\n",
       "      <td>57.3</td>\n",
       "      <td>65.5</td>\n",
       "      <td>48.5</td>\n",
       "      <td>70.4</td>\n",
       "      <td>75.8</td>\n",
       "      <td>64.6</td>\n",
       "      <td>84.6</td>\n",
       "      <td>88.2</td>\n",
       "      <td>80.8</td>\n",
       "    </tr>\n",
       "  </tbody>\n",
       "</table>\n",
       "</div>"
      ],
      "text/plain": [
       "   스트레스 전체  스트레스 남학생  스트레스 여학생  우울 전체  우울 남학생  우울 여학생  자살 전체  자살 남학생  자살 여학생\n",
       "0     42.7      34.5      51.5   29.6    24.2    35.4   15.4    11.8    19.2\n",
       "1     57.3      65.5      48.5   70.4    75.8    64.6   84.6    88.2    80.8"
      ]
     },
     "execution_count": 78,
     "metadata": {},
     "output_type": "execute_result"
    }
   ],
   "source": [
    "teen.loc[1] = 100 - teen.loc[0]\n",
    "teen"
   ]
  },
  {
   "cell_type": "code",
   "execution_count": 79,
   "metadata": {},
   "outputs": [
    {
     "data": {
      "text/html": [
       "<div>\n",
       "<style scoped>\n",
       "    .dataframe tbody tr th:only-of-type {\n",
       "        vertical-align: middle;\n",
       "    }\n",
       "\n",
       "    .dataframe tbody tr th {\n",
       "        vertical-align: top;\n",
       "    }\n",
       "\n",
       "    .dataframe thead th {\n",
       "        text-align: right;\n",
       "    }\n",
       "</style>\n",
       "<table border=\"1\" class=\"dataframe\">\n",
       "  <thead>\n",
       "    <tr style=\"text-align: right;\">\n",
       "      <th></th>\n",
       "      <th>스트레스 전체</th>\n",
       "      <th>스트레스 남학생</th>\n",
       "      <th>스트레스 여학생</th>\n",
       "      <th>우울 전체</th>\n",
       "      <th>우울 남학생</th>\n",
       "      <th>우울 여학생</th>\n",
       "      <th>자살 전체</th>\n",
       "      <th>자살 남학생</th>\n",
       "      <th>자살 여학생</th>\n",
       "      <th>응답</th>\n",
       "    </tr>\n",
       "  </thead>\n",
       "  <tbody>\n",
       "    <tr>\n",
       "      <th>0</th>\n",
       "      <td>42.7</td>\n",
       "      <td>34.5</td>\n",
       "      <td>51.5</td>\n",
       "      <td>29.6</td>\n",
       "      <td>24.2</td>\n",
       "      <td>35.4</td>\n",
       "      <td>15.4</td>\n",
       "      <td>11.8</td>\n",
       "      <td>19.2</td>\n",
       "      <td>그렇다</td>\n",
       "    </tr>\n",
       "    <tr>\n",
       "      <th>1</th>\n",
       "      <td>57.3</td>\n",
       "      <td>65.5</td>\n",
       "      <td>48.5</td>\n",
       "      <td>70.4</td>\n",
       "      <td>75.8</td>\n",
       "      <td>64.6</td>\n",
       "      <td>84.6</td>\n",
       "      <td>88.2</td>\n",
       "      <td>80.8</td>\n",
       "      <td>아니다</td>\n",
       "    </tr>\n",
       "  </tbody>\n",
       "</table>\n",
       "</div>"
      ],
      "text/plain": [
       "   스트레스 전체  스트레스 남학생  스트레스 여학생  우울 전체  우울 남학생  우울 여학생  자살 전체  자살 남학생  자살 여학생  \\\n",
       "0     42.7      34.5      51.5   29.6    24.2    35.4   15.4    11.8    19.2   \n",
       "1     57.3      65.5      48.5   70.4    75.8    64.6   84.6    88.2    80.8   \n",
       "\n",
       "    응답  \n",
       "0  그렇다  \n",
       "1  아니다  "
      ]
     },
     "execution_count": 79,
     "metadata": {},
     "output_type": "execute_result"
    }
   ],
   "source": [
    "teen['응답'] = ['그렇다', '아니다']\n",
    "teen"
   ]
  },
  {
   "cell_type": "code",
   "execution_count": 82,
   "metadata": {},
   "outputs": [
    {
     "data": {
      "text/html": [
       "<div>\n",
       "<style scoped>\n",
       "    .dataframe tbody tr th:only-of-type {\n",
       "        vertical-align: middle;\n",
       "    }\n",
       "\n",
       "    .dataframe tbody tr th {\n",
       "        vertical-align: top;\n",
       "    }\n",
       "\n",
       "    .dataframe thead th {\n",
       "        text-align: right;\n",
       "    }\n",
       "</style>\n",
       "<table border=\"1\" class=\"dataframe\">\n",
       "  <thead>\n",
       "    <tr style=\"text-align: right;\">\n",
       "      <th></th>\n",
       "      <th>스트레스 전체</th>\n",
       "      <th>스트레스 남학생</th>\n",
       "      <th>스트레스 여학생</th>\n",
       "      <th>우울 전체</th>\n",
       "      <th>우울 남학생</th>\n",
       "      <th>우울 여학생</th>\n",
       "      <th>자살 전체</th>\n",
       "      <th>자살 남학생</th>\n",
       "      <th>자살 여학생</th>\n",
       "    </tr>\n",
       "    <tr>\n",
       "      <th>응답</th>\n",
       "      <th></th>\n",
       "      <th></th>\n",
       "      <th></th>\n",
       "      <th></th>\n",
       "      <th></th>\n",
       "      <th></th>\n",
       "      <th></th>\n",
       "      <th></th>\n",
       "      <th></th>\n",
       "    </tr>\n",
       "  </thead>\n",
       "  <tbody>\n",
       "    <tr>\n",
       "      <th>그렇다</th>\n",
       "      <td>42.7</td>\n",
       "      <td>34.5</td>\n",
       "      <td>51.5</td>\n",
       "      <td>29.6</td>\n",
       "      <td>24.2</td>\n",
       "      <td>35.4</td>\n",
       "      <td>15.4</td>\n",
       "      <td>11.8</td>\n",
       "      <td>19.2</td>\n",
       "    </tr>\n",
       "    <tr>\n",
       "      <th>아니다</th>\n",
       "      <td>57.3</td>\n",
       "      <td>65.5</td>\n",
       "      <td>48.5</td>\n",
       "      <td>70.4</td>\n",
       "      <td>75.8</td>\n",
       "      <td>64.6</td>\n",
       "      <td>84.6</td>\n",
       "      <td>88.2</td>\n",
       "      <td>80.8</td>\n",
       "    </tr>\n",
       "  </tbody>\n",
       "</table>\n",
       "</div>"
      ],
      "text/plain": [
       "     스트레스 전체  스트레스 남학생  스트레스 여학생  우울 전체  우울 남학생  우울 여학생  자살 전체  자살 남학생  자살 여학생\n",
       "응답                                                                            \n",
       "그렇다     42.7      34.5      51.5   29.6    24.2    35.4   15.4    11.8    19.2\n",
       "아니다     57.3      65.5      48.5   70.4    75.8    64.6   84.6    88.2    80.8"
      ]
     },
     "execution_count": 82,
     "metadata": {},
     "output_type": "execute_result"
    }
   ],
   "source": [
    "teen.set_index('응답', inplace=True)\n",
    "teen"
   ]
  },
  {
   "cell_type": "code",
   "execution_count": 92,
   "metadata": {},
   "outputs": [],
   "source": [
    "import matplotlib.pyplot as plt\n",
    "from matplotlib import font_manager, rc # 한글 처리\n",
    "f_path = 'C:/Windows/Fonts/malgun.ttf'\n",
    "font_name=font_manager.FontProperties(fname=f_path).get_name()\n",
    "rc('font', family = font_name)\n",
    "plt.rcParams['axes.unicode_minus'] = False"
   ]
  },
  {
   "cell_type": "code",
   "execution_count": 96,
   "metadata": {},
   "outputs": [
    {
     "data": {
      "text/plain": [
       "<matplotlib.axes._subplots.AxesSubplot at 0x28d7f9898d0>"
      ]
     },
     "execution_count": 96,
     "metadata": {},
     "output_type": "execute_result"
    },
    {
     "data": {
      "image/png": "[encoded data removed]",
      "text/plain": [
       "<Figure size 432x288 with 1 Axes>"
      ]
     },
     "metadata": {},
     "output_type": "display_data"
    }
   ],
   "source": [
    "teen['스트레스 전체'].plot.pie(explode=[0, 0.05])"
   ]
  },
  {
   "cell_type": "code",
   "execution_count": 103,
   "metadata": {},
   "outputs": [
    {
     "data": {
      "image/png": "[encoded data removed]",
      "text/plain": [
       "<Figure size 1152x576 with 3 Axes>"
      ]
     },
     "metadata": {},
     "output_type": "display_data"
    }
   ],
   "source": [
    "f, ax = plt.subplots(1, 3, figsize=(16,8))\n",
    "teen['스트레스 전체'].plot.pie(explode=[0, 0.05], ax = ax[0], autopct='%1.1f%%')\n",
    "ax[0].set_title('스트레스를 받은 적이 있다')\n",
    "teen['우울 전체'].plot.pie(explode=[0, 0.05], ax = ax[1], autopct='%1.1f%%')\n",
    "ax[1].set_title('우울증을 경험한 적이 있다')\n",
    "teen['자살 전체'].plot.pie(explode=[0, 0.05], ax = ax[2], autopct='%1.1f%%')\n",
    "ax[2].set_title('자살을 고민한 적이 있다')\n",
    "plt.show()"
   ]
  },
  {
   "cell_type": "code",
   "execution_count": 113,
   "metadata": {},
   "outputs": [
    {
     "data": {
      "image/png": "[encoded data removed]",
      "text/plain": [
       "<Figure size 720x720 with 6 Axes>"
      ]
     },
     "metadata": {},
     "output_type": "display_data"
    }
   ],
   "source": [
    "f, ax = plt.subplots(3, 2, figsize=(10,10))\n",
    "teen['스트레스 남학생'].plot.pie(explode=[0, 0.05], ax = ax[0,0], autopct='%1.1f%%')\n",
    "teen['스트레스 여학생'].plot.pie(explode=[0, 0.05], ax = ax[0,1], autopct='%1.1f%%')\n",
    "teen['우울 남학생'].plot.pie(explode=[0, 0.05], ax = ax[1,0], autopct='%1.1f%%')\n",
    "teen['우울 여학생'].plot.pie(explode=[0, 0.05], ax = ax[1,1], autopct='%1.1f%%')\n",
    "teen['자살 남학생'].plot.pie(explode=[0, 0.05], ax = ax[2,0], autopct='%1.1f%%')\n",
    "teen['자살 여학생'].plot.pie(explode=[0, 0.05], ax = ax[2,1], autopct='%1.1f%%')\n",
    "plt.show()"
   ]
  },
  {
   "cell_type": "code",
   "execution_count": null,
   "metadata": {},
   "outputs": [],
   "source": []
  }
 ],
 "metadata": {
  "kernelspec": {
   "display_name": "Python 3",
   "language": "python",
   "name": "python3"
  },
  "language_info": {
   "codemirror_mode": {
    "name": "ipython",
    "version": 3
   },
   "file_extension": ".py",
   "mimetype": "text/x-python",
   "name": "python",
   "nbconvert_exporter": "python",
   "pygments_lexer": "ipython3",
   "version": "3.7.0"
  }
 },
 "nbformat": 4,
 "nbformat_minor": 2
}
